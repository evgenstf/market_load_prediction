{
 "cells": [
  {
   "cell_type": "code",
   "execution_count": null,
   "metadata": {},
   "outputs": [],
   "source": [
    "with open('../historical_data', newline='') as csvfile:\n",
    "                data = csv.reader(csvfile, delimiter=',')\n",
    "                cnt = 10\n",
    "                for row in data:\n",
    "                    if 'BTCUSDT' in row:\n",
    "                        send_new_order(str(float(row[2]) - 1), random() * 100 + 1, 'bid')\n",
    "                        send_new_order(str(float(row[2]) + 1), random() * 100 + 1, 'ask')\n",
    "                        time.sleep(5)"
   ]
  }
 ],
 "metadata": {
  "kernelspec": {
   "display_name": "Python 3",
   "language": "python",
   "name": "python3"
  },
  "language_info": {
   "codemirror_mode": {
    "name": "ipython",
    "version": 3
   },
   "file_extension": ".py",
   "mimetype": "text/x-python",
   "name": "python",
   "nbconvert_exporter": "python",
   "pygments_lexer": "ipython3",
   "version": "3.7.6"
  }
 },
 "nbformat": 4,
 "nbformat_minor": 4
}
